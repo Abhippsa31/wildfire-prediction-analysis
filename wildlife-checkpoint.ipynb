{
 "cells": [
  {
   "cell_type": "code",
   "execution_count": 1,
   "id": "981adee2-f52b-46ba-9957-0126fc4ff526",
   "metadata": {},
   "outputs": [
    {
     "name": "stdout",
     "output_type": "stream",
     "text": [
      "train/Wildfire: 15750\n",
      "train/NoWildfire: 14500\n",
      "test/Wildfire: 3480\n",
      "test/NoWildfire: 2821\n",
      "valid/Wildfire: 3480\n",
      "valid/NoWildfire: 2820\n",
      "Corrupt images in train: []\n"
     ]
    }
   ],
   "source": [
    "import os\n",
    "import pandas as pd\n",
    "import matplotlib.pyplot as plt\n",
    "from PIL import ImageFile\n",
    "ImageFile.LOAD_TRUNCATED_IMAGES = True\n",
    "import seaborn as sns\n",
    "from PIL import Image\n",
    "base_path = 'images' \n",
    "for folder in ['train', 'test', 'valid']:\n",
    "    path = os.path.join(base_path, folder)\n",
    "    for cls in ['Wildfire', 'NoWildfire']:\n",
    "        cls_path = os.path.join(path, cls)\n",
    "        print(f\"{folder}/{cls}:\", len(os.listdir(cls_path)))\n",
    "def check_images(folder_path):\n",
    "    issues = []\n",
    "    for cls in ['Wildfire', 'NoWildfire']:\n",
    "        cls_folder = os.path.join(folder_path, cls)\n",
    "        for fname in os.listdir(cls_folder):\n",
    "            try:\n",
    "                img = Image.open(os.path.join(cls_folder, fname))\n",
    "                img.verify()\n",
    "            except:\n",
    "                issues.append(fname)\n",
    "    return issues\n",
    "\n",
    "issues_train = check_images(os.path.join(base_path, 'train'))\n",
    "print(\"Corrupt images in train:\", issues_train)"
   ]
  },
  {
   "cell_type": "code",
   "execution_count": 2,
   "id": "928d46d3-aa97-4600-ae67-ebcd711e51eb",
   "metadata": {},
   "outputs": [
    {
     "name": "stdout",
     "output_type": "stream",
     "text": [
      "Found 30250 images belonging to 2 classes.\n",
      "Found 6300 images belonging to 2 classes.\n",
      "Found 6302 images belonging to 2 classes.\n"
     ]
    }
   ],
   "source": [
    "from tensorflow.keras.preprocessing.image import ImageDataGenerator\n",
    "\n",
    "IMG_SIZE = (224, 224)\n",
    "BATCH_SIZE = 64\n",
    "\n",
    "train_datagen = ImageDataGenerator(rescale=1./255, rotation_range=15, zoom_range=0.1, horizontal_flip=True)\n",
    "test_val_datagen = ImageDataGenerator(rescale=1./255)\n",
    "\n",
    "train_gen = train_datagen.flow_from_directory(\n",
    "    os.path.join(base_path, 'train'), target_size=IMG_SIZE, batch_size=BATCH_SIZE, class_mode='binary'\n",
    ")\n",
    "val_gen = test_val_datagen.flow_from_directory(\n",
    "    os.path.join(base_path, 'valid'), target_size=IMG_SIZE, batch_size=BATCH_SIZE, class_mode='binary'\n",
    ")\n",
    "test_gen = test_val_datagen.flow_from_directory(\n",
    "    os.path.join(base_path, 'test'), target_size=IMG_SIZE, batch_size=BATCH_SIZE, class_mode='binary', shuffle=False\n",
    ")"
   ]
  },
  {
   "cell_type": "code",
   "execution_count": null,
   "id": "5cd62880-63d4-4255-b1d6-aeef97fe8b8e",
   "metadata": {},
   "outputs": [
    {
     "name": "stderr",
     "output_type": "stream",
     "text": [
      "C:\\Users\\hp\\AppData\\Local\\Programs\\Python\\Python312\\Lib\\site-packages\\keras\\src\\trainers\\data_adapters\\py_dataset_adapter.py:121: UserWarning: Your `PyDataset` class should call `super().__init__(**kwargs)` in its constructor. `**kwargs` can include `workers`, `use_multiprocessing`, `max_queue_size`. Do not pass these arguments to `fit()`, as they will be ignored.\n",
      "  self._warn_if_super_not_called()\n"
     ]
    },
    {
     "name": "stdout",
     "output_type": "stream",
     "text": [
      "Epoch 1/10\n",
      "\u001b[1m 36/473\u001b[0m \u001b[32m━\u001b[0m\u001b[37m━━━━━━━━━━━━━━━━━━━\u001b[0m \u001b[1m36:34\u001b[0m 5s/step - accuracy: 0.6853 - loss: 0.7259"
     ]
    }
   ],
   "source": [
    "# 4. Model A: Custom CNN\n",
    "# -------------------------------\n",
    "from tensorflow.keras.layers import Conv2D, MaxPooling2D, Flatten, Dense, Dropout, Input\n",
    "cnn_model = Sequential([\n",
    "    Input(shape=(224, 224, 3)),\n",
    "    Conv2D(32, (3,3), activation='relu'),\n",
    "    MaxPooling2D(),\n",
    "    Conv2D(64, (3,3), activation='relu'),\n",
    "    MaxPooling2D(),\n",
    "    Conv2D(128, (3,3), activation='relu'),\n",
    "    MaxPooling2D(),\n",
    "    Flatten(),\n",
    "    Dense(128, activation='relu'),\n",
    "    Dropout(0.5),\n",
    "    Dense(1, activation='sigmoid')\n",
    "])\n",
    "\n",
    "cnn_model.compile(optimizer='adam', loss='binary_crossentropy', metrics=['accuracy'])\n",
    "\n",
    "cnn_history = cnn_model.fit(train_gen, epochs=10, validation_data=val_gen)\n"
   ]
  },
  {
   "cell_type": "code",
   "execution_count": null,
   "id": "e55b25c6-9332-476e-bf9e-0bc39d32e8e1",
   "metadata": {},
   "outputs": [],
   "source": [
    "# 5. Model B: MobileNetV2 (Transfer Learning)\n",
    "# -------------------------------\n",
    "base_model = MobileNetV2(weights='imagenet', include_top=False, input_shape=(224,224,3))\n",
    "base_model.trainable = False\n",
    "\n",
    "inputs = Input(shape=(224, 224, 3))\n",
    "x = preprocess_input(inputs)\n",
    "x = base_model(x, training=False)\n",
    "x = GlobalAveragePooling2D()(x)\n",
    "x = Dropout(0.3)(x)\n",
    "outputs = Dense(1, activation='sigmoid')(x)\n",
    "\n",
    "mobilenet_model = Model(inputs, outputs)\n",
    "mobilenet_model.compile(optimizer=Adam(), loss='binary_crossentropy', metrics=['accuracy'])\n",
    "\n",
    "mobilenet_history = mobilenet_model.fit(train_gen, epochs=10, validation_data=val_gen)\n",
    "\n"
   ]
  },
  {
   "cell_type": "code",
   "execution_count": null,
   "id": "23117fbf-0c4f-417b-b529-e89137460bd3",
   "metadata": {},
   "outputs": [],
   "source": [
    "# 6. Evaluation & Comparison\n",
    "# -------------------------------\n",
    "def plot_metrics(history, title):\n",
    "    plt.figure(figsize=(12, 4))\n",
    "    plt.subplot(1,2,1)\n",
    "    plt.plot(history.history['accuracy'], label='Train Acc')\n",
    "    plt.plot(history.history['val_accuracy'], label='Val Acc')\n",
    "    plt.title(f'{title} - Accuracy')\n",
    "    plt.legend()\n",
    "\n",
    "    plt.subplot(1,2,2)\n",
    "    plt.plot(history.history['loss'], label='Train Loss')\n",
    "    plt.plot(history.history['val_loss'], label='Val Loss')\n",
    "    plt.title(f'{title} - Loss')\n",
    "    plt.legend()\n",
    "    plt.show()\n",
    "\n",
    "plot_metrics(cnn_history, 'Custom CNN')\n",
    "plot_metrics(mobilenet_history, 'MobileNetV2')\n",
    "\n"
   ]
  },
  {
   "cell_type": "code",
   "execution_count": null,
   "id": "9f336bc4-36b5-4553-9b8d-19aabb8fecf0",
   "metadata": {},
   "outputs": [],
   "source": [
    "# Test Evaluation\n",
    "for name, model in zip(['Custom CNN', 'MobileNetV2'], [cnn_model, mobilenet_model]):\n",
    "    y_pred = (model.predict(test_gen) > 0.5).astype('int32')\n",
    "    y_true = test_gen.classes\n",
    "\n",
    "    print(f\"\\n{name} Classification Report\")\n",
    "    print(classification_report(y_true, y_pred, target_names=test_gen.class_indices.keys()))\n",
    "\n",
    "    cm = confusion_matrix(y_true, y_pred)\n",
    "    sns.heatmap(cm, annot=True, fmt='d', cmap='Blues', xticklabels=test_gen.class_indices, yticklabels=test_gen.class_indices)\n",
    "    plt.title(f'{name} Confusion Matrix')\n",
    "    plt.xlabel('Predicted')\n",
    "    plt.ylabel('Actual')\n",
    "    plt.show()\n",
    "\n",
    "    fpr, tpr, _ = roc_curve(y_true, y_pred)\n",
    "    roc_auc = auc(fpr, tpr)\n",
    "    plt.plot(fpr, tpr, label=f'{name} (AUC = {roc_auc:.2f})')\n",
    "\n",
    "plt.plot([0, 1], [0, 1], 'k--')\n",
    "plt.xlabel('False Positive Rate')\n",
    "plt.ylabel('True Positive Rate')\n",
    "plt.title('ROC Curve')\n",
    "plt.legend()\n",
    "plt.show()    \n",
    "\n",
    "\n"
   ]
  }
 ],
 "metadata": {
  "kernelspec": {
   "display_name": "Python 3 (ipykernel)",
   "language": "python",
   "name": "python3"
  },
  "language_info": {
   "codemirror_mode": {
    "name": "ipython",
    "version": 3
   },
   "file_extension": ".py",
   "mimetype": "text/x-python",
   "name": "python",
   "nbconvert_exporter": "python",
   "pygments_lexer": "ipython3",
   "version": "3.12.1"
  }
 },
 "nbformat": 4,
 "nbformat_minor": 5
}
